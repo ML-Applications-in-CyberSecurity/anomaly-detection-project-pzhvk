{
 "cells": [
  {
   "cell_type": "markdown",
   "id": "c9cba8b9",
   "metadata": {},
   "source": [
    "### 🧩 Imports\n",
    "\n",
    "Import all the necessary libraries:\n",
    "- `json` for reading/writing JSON files.\n",
    "- `pandas` and `numpy` for data manipulation.\n",
    "- `random` for generating random synthetic data.\n",
    "- `IsolationForest` from `sklearn` for anomaly detection.\n",
    "- `joblib` for saving the trained model."
   ]
  },
  {
   "cell_type": "code",
   "id": "a807fa48",
   "metadata": {
    "ExecuteTime": {
     "end_time": "2025-07-20T20:44:29.212631Z",
     "start_time": "2025-07-20T20:44:29.208640Z"
    }
   },
   "source": [
    "import json\n",
    "import pandas as pd\n",
    "from sklearn.ensemble import IsolationForest\n",
    "import numpy as np\n",
    "import random\n",
    "import joblib"
   ],
   "outputs": [],
   "execution_count": 35
  },
  {
   "cell_type": "markdown",
   "id": "66939a62",
   "metadata": {},
   "source": [
    "### 📊 Generate Dataset\n",
    "\n",
    "Create synthetic \"normal\" network traffic data to train an anomaly detection model. Each sample includes:\n",
    "\n",
    "- `src_port`: randomly selected from common service ports.\n",
    "- `dst_port`: a random high port number.\n",
    "- `packet_size`: typical packet sizes.\n",
    "- `duration_ms`: duration of the communication.\n",
    "- `protocol`: randomly selected between TCP and UDP.\n",
    "\n",
    "This data is saved to `training_data.json` for future use."
   ]
  },
  {
   "cell_type": "code",
   "id": "870cc066",
   "metadata": {
    "ExecuteTime": {
     "end_time": "2025-07-20T20:44:30.366937Z",
     "start_time": "2025-07-20T20:44:30.334394Z"
    }
   },
   "source": [
    "COMMON_PORTS = [80, 443, 22, 8080]\n",
    "\n",
    "def generate_normal_data():\n",
    "    return {\n",
    "        \"src_port\": random.choice(COMMON_PORTS),\n",
    "        \"dst_port\": random.randint(1024, 65535),\n",
    "        \"packet_size\": random.randint(100, 1500),\n",
    "        \"duration_ms\": random.randint(50, 500),\n",
    "        \"protocol\": random.choice([\"TCP\", \"UDP\"])\n",
    "    }\n",
    "\n",
    "dataset = [generate_normal_data() for _ in range(1000)]\n",
    "\n",
    "with open(\"training_data.json\", \"w\") as f:\n",
    "    json.dump(dataset, f, indent=2)\n",
    "\n",
    "print(\"Generated and saved training_data.json\")"
   ],
   "outputs": [
    {
     "name": "stdout",
     "output_type": "stream",
     "text": [
      "Generated and saved training_data.json\n"
     ]
    }
   ],
   "execution_count": 36
  },
  {
   "cell_type": "code",
   "id": "1dd53134",
   "metadata": {
    "ExecuteTime": {
     "end_time": "2025-07-20T20:44:32.094190Z",
     "start_time": "2025-07-20T20:44:32.076444Z"
    }
   },
   "source": [
    "with open(\"training_data.json\") as f:\n",
    "    raw_data = json.load(f)\n",
    "\n",
    "df = pd.DataFrame(raw_data)\n",
    "display(df.head())"
   ],
   "outputs": [
    {
     "data": {
      "text/plain": [
       "   src_port  dst_port  packet_size  duration_ms protocol\n",
       "0        22     23646         1447          392      UDP\n",
       "1       443     51361          601          468      TCP\n",
       "2        80     59470         1236          391      TCP\n",
       "3      8080     64832          257          302      TCP\n",
       "4       443     54966          136          350      TCP"
      ],
      "text/html": [
       "<div>\n",
       "<style scoped>\n",
       "    .dataframe tbody tr th:only-of-type {\n",
       "        vertical-align: middle;\n",
       "    }\n",
       "\n",
       "    .dataframe tbody tr th {\n",
       "        vertical-align: top;\n",
       "    }\n",
       "\n",
       "    .dataframe thead th {\n",
       "        text-align: right;\n",
       "    }\n",
       "</style>\n",
       "<table border=\"1\" class=\"dataframe\">\n",
       "  <thead>\n",
       "    <tr style=\"text-align: right;\">\n",
       "      <th></th>\n",
       "      <th>src_port</th>\n",
       "      <th>dst_port</th>\n",
       "      <th>packet_size</th>\n",
       "      <th>duration_ms</th>\n",
       "      <th>protocol</th>\n",
       "    </tr>\n",
       "  </thead>\n",
       "  <tbody>\n",
       "    <tr>\n",
       "      <th>0</th>\n",
       "      <td>22</td>\n",
       "      <td>23646</td>\n",
       "      <td>1447</td>\n",
       "      <td>392</td>\n",
       "      <td>UDP</td>\n",
       "    </tr>\n",
       "    <tr>\n",
       "      <th>1</th>\n",
       "      <td>443</td>\n",
       "      <td>51361</td>\n",
       "      <td>601</td>\n",
       "      <td>468</td>\n",
       "      <td>TCP</td>\n",
       "    </tr>\n",
       "    <tr>\n",
       "      <th>2</th>\n",
       "      <td>80</td>\n",
       "      <td>59470</td>\n",
       "      <td>1236</td>\n",
       "      <td>391</td>\n",
       "      <td>TCP</td>\n",
       "    </tr>\n",
       "    <tr>\n",
       "      <th>3</th>\n",
       "      <td>8080</td>\n",
       "      <td>64832</td>\n",
       "      <td>257</td>\n",
       "      <td>302</td>\n",
       "      <td>TCP</td>\n",
       "    </tr>\n",
       "    <tr>\n",
       "      <th>4</th>\n",
       "      <td>443</td>\n",
       "      <td>54966</td>\n",
       "      <td>136</td>\n",
       "      <td>350</td>\n",
       "      <td>TCP</td>\n",
       "    </tr>\n",
       "  </tbody>\n",
       "</table>\n",
       "</div>"
      ]
     },
     "metadata": {},
     "output_type": "display_data"
    }
   ],
   "execution_count": 37
  },
  {
   "cell_type": "markdown",
   "id": "439e560b",
   "metadata": {},
   "source": [
    "### 🧼 Preprocessing Function\n",
    "\n",
    "Machine learning models like Isolation Forest require **numerical input only**. Any categorical variables, such as the `protocol` column (`TCP`, `UDP`), must be converted into numbers.\n",
    "\n",
    "We handle this with **one-hot encoding**, using `pd.get_dummies`.\n",
    "\n",
    "#### 🛠️ Preprocessing Steps:\n",
    "\n",
    "1. **Identify categorical columns**:\n",
    "   - In our case, the `protocol` column is categorical (`TCP`, `UDP`).\n",
    "\n",
    "2. **Use `pd.get_dummies`**:\n",
    "   - This creates a new binary column for each category.\n",
    "   - For instance:\n",
    "     ```\n",
    "     protocol\n",
    "     ---------\n",
    "     TCP   →   protocol_UDP = 0\n",
    "     UDP   →   protocol_UDP = 1\n",
    "     ```\n",
    "   - Setting `drop_first=True` prevents multicollinearity by dropping the first category (`TCP` here), as it can be inferred from the others.\n",
    "\n",
    "3. **Return a DataFrame with all numerical values**:\n",
    "   - This is ready for model input.\n",
    "\n",
    "> ✅ This preprocessing is essential to avoid errors during training and ensure the model can learn from categorical variables."
   ]
  },
  {
   "cell_type": "code",
   "id": "aae1de67",
   "metadata": {
    "ExecuteTime": {
     "end_time": "2025-07-20T20:44:33.767192Z",
     "start_time": "2025-07-20T20:44:33.754689Z"
    }
   },
   "source": [
    "def preprocess_data(df):\n",
    "    df_processed = pd.get_dummies(df, columns=['protocol'], drop_first=True, dtype=int)\n",
    "\n",
    "    required_cols = ['src_port', 'dst_port', 'packet_size', 'duration_ms', 'protocol_UDP']\n",
    "    for col in required_cols:\n",
    "        if col not in df_processed.columns:\n",
    "            df_processed[col] = 0\n",
    "\n",
    "    return df_processed[required_cols]\n",
    "\n",
    "df_processed = preprocess_data(df.copy())\n",
    "display(df_processed.head())"
   ],
   "outputs": [
    {
     "data": {
      "text/plain": [
       "   src_port  dst_port  packet_size  duration_ms  protocol_UDP\n",
       "0        22     23646         1447          392             1\n",
       "1       443     51361          601          468             0\n",
       "2        80     59470         1236          391             0\n",
       "3      8080     64832          257          302             0\n",
       "4       443     54966          136          350             0"
      ],
      "text/html": [
       "<div>\n",
       "<style scoped>\n",
       "    .dataframe tbody tr th:only-of-type {\n",
       "        vertical-align: middle;\n",
       "    }\n",
       "\n",
       "    .dataframe tbody tr th {\n",
       "        vertical-align: top;\n",
       "    }\n",
       "\n",
       "    .dataframe thead th {\n",
       "        text-align: right;\n",
       "    }\n",
       "</style>\n",
       "<table border=\"1\" class=\"dataframe\">\n",
       "  <thead>\n",
       "    <tr style=\"text-align: right;\">\n",
       "      <th></th>\n",
       "      <th>src_port</th>\n",
       "      <th>dst_port</th>\n",
       "      <th>packet_size</th>\n",
       "      <th>duration_ms</th>\n",
       "      <th>protocol_UDP</th>\n",
       "    </tr>\n",
       "  </thead>\n",
       "  <tbody>\n",
       "    <tr>\n",
       "      <th>0</th>\n",
       "      <td>22</td>\n",
       "      <td>23646</td>\n",
       "      <td>1447</td>\n",
       "      <td>392</td>\n",
       "      <td>1</td>\n",
       "    </tr>\n",
       "    <tr>\n",
       "      <th>1</th>\n",
       "      <td>443</td>\n",
       "      <td>51361</td>\n",
       "      <td>601</td>\n",
       "      <td>468</td>\n",
       "      <td>0</td>\n",
       "    </tr>\n",
       "    <tr>\n",
       "      <th>2</th>\n",
       "      <td>80</td>\n",
       "      <td>59470</td>\n",
       "      <td>1236</td>\n",
       "      <td>391</td>\n",
       "      <td>0</td>\n",
       "    </tr>\n",
       "    <tr>\n",
       "      <th>3</th>\n",
       "      <td>8080</td>\n",
       "      <td>64832</td>\n",
       "      <td>257</td>\n",
       "      <td>302</td>\n",
       "      <td>0</td>\n",
       "    </tr>\n",
       "    <tr>\n",
       "      <th>4</th>\n",
       "      <td>443</td>\n",
       "      <td>54966</td>\n",
       "      <td>136</td>\n",
       "      <td>350</td>\n",
       "      <td>0</td>\n",
       "    </tr>\n",
       "  </tbody>\n",
       "</table>\n",
       "</div>"
      ]
     },
     "metadata": {},
     "output_type": "display_data"
    }
   ],
   "execution_count": 38
  },
  {
   "cell_type": "markdown",
   "id": "7c5bf7fa",
   "metadata": {},
   "source": [
    "### 🤖 Train Isolation Forest\n",
    "\n",
    "The `IsolationForest` algorithm is an unsupervised model used to detect anomalies. It isolates observations by randomly selecting features and splitting values.\n",
    "\n",
    "- `n_estimators=100`: number of trees in the forest.\n",
    "- `contamination=0.01`: assumes 1% of the data is anomalous.\n",
    "- `random_state=42`: ensures reproducibility.\n",
    "\n",
    "The model is trained on the preprocessed numerical dataset."
   ]
  },
  {
   "cell_type": "code",
   "id": "1226cc18",
   "metadata": {
    "ExecuteTime": {
     "end_time": "2025-07-20T20:44:35.216269Z",
     "start_time": "2025-07-20T20:44:35.097700Z"
    }
   },
   "source": [
    "model = IsolationForest(n_estimators=100, contamination=0.2, random_state=42)\n",
    "\n",
    "model.fit(df_processed)\n",
    "\n",
    "print(\"Isolation Forest model trained successfully.\")"
   ],
   "outputs": [
    {
     "name": "stdout",
     "output_type": "stream",
     "text": [
      "Isolation Forest model trained successfully.\n"
     ]
    }
   ],
   "execution_count": 39
  },
  {
   "cell_type": "markdown",
   "id": "b3d27677",
   "metadata": {},
   "source": [
    "### 💾 Save Trained Model\n",
    "\n",
    "Save the trained model using `joblib`, which allows for efficient serialization and deserialization. This saved model can be reused later for inference or deployment.\n"
   ]
  },
  {
   "cell_type": "code",
   "id": "1205b791",
   "metadata": {
    "ExecuteTime": {
     "end_time": "2025-07-20T20:44:37.094188Z",
     "start_time": "2025-07-20T20:44:37.056851Z"
    }
   },
   "source": [
    "joblib.dump(model, \"anomaly_model.joblib\")\n",
    "\n",
    "print(\"Model saved to anomaly_model.joblib\")"
   ],
   "outputs": [
    {
     "name": "stdout",
     "output_type": "stream",
     "text": [
      "Model saved to anomaly_model.joblib\n"
     ]
    }
   ],
   "execution_count": 40
  },
  {
   "cell_type": "markdown",
   "id": "aca5c30c",
   "metadata": {},
   "source": [
    "# predict data"
   ]
  },
  {
   "cell_type": "code",
   "id": "50cd9507",
   "metadata": {
    "ExecuteTime": {
     "end_time": "2025-07-20T20:44:38.031015Z",
     "start_time": "2025-07-20T20:44:38.010525Z"
    }
   },
   "source": [
    "preds = model.predict(df_processed)\n",
    "print(np.unique(preds, return_counts=True))"
   ],
   "outputs": [
    {
     "name": "stdout",
     "output_type": "stream",
     "text": [
      "(array([-1,  1]), array([200, 800]))\n"
     ]
    }
   ],
   "execution_count": 41
  }
 ],
 "metadata": {
  "kernelspec": {
   "display_name": "university",
   "language": "python",
   "name": "python3"
  },
  "language_info": {
   "codemirror_mode": {
    "name": "ipython",
    "version": 3
   },
   "file_extension": ".py",
   "mimetype": "text/x-python",
   "name": "python",
   "nbconvert_exporter": "python",
   "pygments_lexer": "ipython3",
   "version": "3.11.11"
  }
 },
 "nbformat": 4,
 "nbformat_minor": 5
}
